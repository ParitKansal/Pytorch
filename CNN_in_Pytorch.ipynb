{
  "nbformat": 4,
  "nbformat_minor": 0,
  "metadata": {
    "colab": {
      "provenance": [],
      "gpuType": "T4",
      "authorship_tag": "ABX9TyMsdthC5RnkBiyPuH2eHI9V",
      "include_colab_link": true
    },
    "kernelspec": {
      "name": "python3",
      "display_name": "Python 3"
    },
    "language_info": {
      "name": "python"
    },
    "accelerator": "GPU"
  },
  "cells": [
    {
      "cell_type": "markdown",
      "metadata": {
        "id": "view-in-github",
        "colab_type": "text"
      },
      "source": [
        "<a href=\"https://colab.research.google.com/github/ParitKansal/Pytorch/blob/main/CNN_in_Pytorch.ipynb\" target=\"_parent\"><img src=\"https://colab.research.google.com/assets/colab-badge.svg\" alt=\"Open In Colab\"/></a>"
      ]
    },
    {
      "cell_type": "markdown",
      "source": [
        "## 1. Importing Required PyTorch Modules"
      ],
      "metadata": {
        "id": "cd7wm5kpAicl"
      }
    },
    {
      "cell_type": "code",
      "execution_count": 29,
      "metadata": {
        "id": "WFOOSyyLr9TF"
      },
      "outputs": [],
      "source": [
        "import torch\n",
        "from torch import nn\n",
        "from torch.utils.data import DataLoader\n",
        "from torchvision import datasets\n",
        "from torchvision.transforms import ToTensor, Lambda"
      ]
    },
    {
      "cell_type": "markdown",
      "source": [
        "## 2. Downloading and Preparing the FashionMNIST Dataset"
      ],
      "metadata": {
        "id": "QoCP3c2eArg6"
      }
    },
    {
      "cell_type": "code",
      "source": [
        "# Download and load the training data for the FashionMNIST dataset.\n",
        "# - 'root': Directory where the data will be stored.\n",
        "# - 'train': Specifies whether to download the training set (True).\n",
        "# - 'download': Downloads the dataset if it isn't already downloaded.\n",
        "# - 'transform': Applies a transformation to the data (e.g., converting images to tensors).\n",
        "training_data = datasets.FashionMNIST(\n",
        "    root=\"data\",       # Path to save the dataset.\n",
        "    train=True,        # Load the training data.\n",
        "    download=True,     # Download the dataset if not already present.\n",
        "    transform=ToTensor(),  # Transform images to PyTorch tensors.\n",
        ")\n",
        "\n",
        "# Download and load the test data for the FashionMNIST dataset.\n",
        "# - Similar to the training data, but 'train' is set to False to download the test set.\n",
        "test_data = datasets.FashionMNIST(\n",
        "    root=\"data\",       # Path to save the dataset.\n",
        "    train=False,       # Load the test data.\n",
        "    download=True,     # Download the dataset if not already present.\n",
        "    transform=ToTensor(),  # Transform images to PyTorch tensors.\n",
        ")"
      ],
      "metadata": {
        "id": "XWxtgq3JsHMq"
      },
      "execution_count": 30,
      "outputs": []
    },
    {
      "cell_type": "code",
      "source": [
        "batch_size = 64\n",
        "\n",
        "# Create data loaders.\n",
        "train_dataloader = DataLoader(training_data, batch_size=batch_size)\n",
        "test_dataloader = DataLoader(test_data, batch_size=batch_size)\n",
        "\n",
        "for X, y in test_dataloader:\n",
        "    print(f\"Shape of X [N, C, H, W]: {X.shape}\")\n",
        "    print(f\"Shape of y: {y.shape} {y.dtype}\")\n",
        "    break"
      ],
      "metadata": {
        "colab": {
          "base_uri": "https://localhost:8080/"
        },
        "id": "liV1njNtsSeT",
        "outputId": "b1e923bf-3655-4b87-894c-5777eb7bbcf2"
      },
      "execution_count": 31,
      "outputs": [
        {
          "output_type": "stream",
          "name": "stdout",
          "text": [
            "Shape of X [N, C, H, W]: torch.Size([64, 1, 28, 28])\n",
            "Shape of y: torch.Size([64]) torch.int64\n"
          ]
        }
      ]
    },
    {
      "cell_type": "markdown",
      "source": [
        "## 3. Setting Up the Device for Model Trainin"
      ],
      "metadata": {
        "id": "A-1yogYUA27G"
      }
    },
    {
      "cell_type": "code",
      "source": [
        "# Get cpu, gpu or mps device for training.\n",
        "device = (\n",
        "    \"cuda\"\n",
        "    if torch.cuda.is_available()\n",
        "    else \"mps\"\n",
        "    if torch.backends.mps.is_available()\n",
        "    else \"cpu\"\n",
        ")\n",
        "print(f\"Using {device} device\")"
      ],
      "metadata": {
        "colab": {
          "base_uri": "https://localhost:8080/"
        },
        "id": "HR9nYm6zsvdV",
        "outputId": "0584ba19-7831-4a56-b0ea-31574fc7f272"
      },
      "execution_count": 32,
      "outputs": [
        {
          "output_type": "stream",
          "name": "stdout",
          "text": [
            "Using cuda device\n"
          ]
        }
      ]
    },
    {
      "cell_type": "markdown",
      "source": [
        "## 4. Defining and Initializing the Neural Network Model"
      ],
      "metadata": {
        "id": "YvW5vp3OA9Ex"
      }
    },
    {
      "cell_type": "code",
      "source": [
        "class NeuralNetwork(nn.Module):\n",
        "    def __init__(self):\n",
        "        super().__init__()\n",
        "\n",
        "        # Layer to flatten input images from (28, 28) to (28*28)\n",
        "        self.flatten = nn.Flatten()\n",
        "\n",
        "        # Sequential model consisting of Linear layers followed by Batch Normalization, Dropout, and ReLU activations\n",
        "        self.linear_relu_stack = nn.Sequential(\n",
        "            nn.Linear(28*28, 512, bias=True),  # Fully connected layer: input size (28*28), output size 512\n",
        "            nn.BatchNorm1d(512),               # Batch Normalization\n",
        "            nn.ReLU(),                         # Activation function: ReLU\n",
        "            nn.Dropout(0.2),                   # Dropout with 20% probability\n",
        "            nn.Linear(512, 256, bias=True),    # Fully connected layer: input size 512, output size 256\n",
        "            nn.BatchNorm1d(256),               # Batch Normalization\n",
        "            nn.ReLU(),                         # Activation function: ReLU\n",
        "            nn.Dropout(0.2),                   # Dropout with 20% probability\n",
        "            nn.Linear(256, 10, bias=True)      # Fully connected layer: input size 256, output size 10 (class scores)\n",
        "        )\n",
        "\n",
        "    def forward(self, x):\n",
        "        # Forward pass through the network\n",
        "        x = self.flatten(x)                   # Flatten the input\n",
        "        logits = self.linear_relu_stack(x)    # Pass through the linear, BatchNorm, ReLU, and Dropout layers\n",
        "        return logits                         # Return the raw scores (logits) for each class\n",
        "\n",
        "# Instantiate the model and move it to the specified device (e.g., CPU or GPU)\n",
        "model = NeuralNetwork().to(device)\n",
        "\n",
        "# Print the model's architecture\n",
        "print(model)"
      ],
      "metadata": {
        "colab": {
          "base_uri": "https://localhost:8080/"
        },
        "id": "PVQZGP0BszQK",
        "outputId": "87c4c982-9ffd-4a6b-e6ad-7c775078e792"
      },
      "execution_count": 33,
      "outputs": [
        {
          "output_type": "stream",
          "name": "stdout",
          "text": [
            "NeuralNetwork(\n",
            "  (flatten): Flatten(start_dim=1, end_dim=-1)\n",
            "  (linear_relu_stack): Sequential(\n",
            "    (0): Linear(in_features=784, out_features=512, bias=True)\n",
            "    (1): BatchNorm1d(512, eps=1e-05, momentum=0.1, affine=True, track_running_stats=True)\n",
            "    (2): ReLU()\n",
            "    (3): Dropout(p=0.2, inplace=False)\n",
            "    (4): Linear(in_features=512, out_features=256, bias=True)\n",
            "    (5): BatchNorm1d(256, eps=1e-05, momentum=0.1, affine=True, track_running_stats=True)\n",
            "    (6): ReLU()\n",
            "    (7): Dropout(p=0.2, inplace=False)\n",
            "    (8): Linear(in_features=256, out_features=10, bias=True)\n",
            "  )\n",
            ")\n"
          ]
        }
      ]
    },
    {
      "cell_type": "markdown",
      "source": [
        "## 5. Defining the Loss Function and Optimizer"
      ],
      "metadata": {
        "id": "G7-KuIdDBB8K"
      }
    },
    {
      "cell_type": "markdown",
      "source": [
        "### 5.1. Selecting the Loss Function"
      ],
      "metadata": {
        "id": "lMHqVoS_Cu8g"
      }
    },
    {
      "cell_type": "code",
      "source": [
        "# Define the loss function\n",
        "# - nn.CrossEntropyLoss() computes the cross-entropy loss between the predicted logits and true labels.\n",
        "# - It combines nn.LogSoftmax() and nn.NLLLoss() in a single step.\n",
        "# - This is commonly used for multi-class classification tasks.\n",
        "loss_fn = nn.CrossEntropyLoss()"
      ],
      "metadata": {
        "id": "JgxTiPlDs_b4"
      },
      "execution_count": 34,
      "outputs": []
    },
    {
      "cell_type": "markdown",
      "source": [
        "### 5.2. Choosing the Optimizer"
      ],
      "metadata": {
        "id": "vUQT4chYCxBv"
      }
    },
    {
      "cell_type": "code",
      "source": [
        "# Define the optimizer\n",
        "# - torch.optim.SGD: Implements stochastic gradient descent (SGD) optimization.\n",
        "# - 'model.parameters()': Passes the parameters of the model to the optimizer for updates.\n",
        "# - 'lr=1e-3': Sets the learning rate to 0.001 for gradient updates.\n",
        "optimizer = torch.optim.SGD(model.parameters(), lr=1e-3)"
      ],
      "metadata": {
        "id": "K7EnOM8sCsOK"
      },
      "execution_count": 35,
      "outputs": []
    },
    {
      "cell_type": "markdown",
      "source": [
        "## 6. Model Training and Testing"
      ],
      "metadata": {
        "id": "mnYuw8UaBi_C"
      }
    },
    {
      "cell_type": "code",
      "source": [
        "# Lists to store accuracy and loss values for training and testing\n",
        "train_accuracies = []  # Store training accuracy for each epoch\n",
        "test_accuracies = []   # Store test accuracy for each epoch\n",
        "train_losses = []      # Store training loss for each epoch\n",
        "test_losses = []       # Store test loss for each epoch"
      ],
      "metadata": {
        "id": "cWZjq6iN5Iqa"
      },
      "execution_count": 36,
      "outputs": []
    },
    {
      "cell_type": "markdown",
      "source": [
        "### 6.1. Defining the Training Function"
      ],
      "metadata": {
        "id": "VBP-O61tBIt-"
      }
    },
    {
      "cell_type": "code",
      "source": [
        "# Define the training function\n",
        "def train(dataloader, model, loss_fn, optimizer):\n",
        "    size = len(dataloader.dataset)  # Total number of samples in the training dataset\n",
        "    model.train()  # Set the model to training mode\n",
        "\n",
        "    correct = 0  # Counter for correct predictions (used to calculate accuracy)\n",
        "    train_loss = 0  # Accumulator for cumulative loss over the epoch\n",
        "\n",
        "    # Iterate over batches in the dataloader\n",
        "    for batch, (X, y) in enumerate(dataloader):\n",
        "        X, y = X.to(device), y.to(device)  # Move data and labels to the specified device\n",
        "\n",
        "        # Forward pass: Compute predictions and loss\n",
        "        pred = model(X)\n",
        "        loss = loss_fn(pred, y)\n",
        "\n",
        "        # Backpropagation and optimization\n",
        "        loss.backward()        # Compute gradients\n",
        "        optimizer.step()        # Update model parameters\n",
        "        optimizer.zero_grad()   # Reset gradients for the next batch\n",
        "\n",
        "        # Accumulate loss and correct predictions for the batch\n",
        "        train_loss += loss.item()\n",
        "        correct += (pred.argmax(1) == y).type(torch.float).sum().item()\n",
        "\n",
        "        # Print progress every 100 batches\n",
        "        if batch % 100 == 0:\n",
        "            loss_value = loss.item()  # Current batch loss\n",
        "            current = (batch + 1) * len(X)  # Number of samples processed so far\n",
        "            print(f\"loss: {loss_value:>7f}  [{current:>5d}/{size:>5d}]\")\n",
        "\n",
        "    # Calculate average loss and accuracy for the epoch\n",
        "    avg_loss = train_loss / len(dataloader)  # Average loss over all batches\n",
        "    accuracy = 100 * correct / size  # Accuracy as a percentage\n",
        "    train_losses.append(avg_loss)  # Append the average training loss to the list\n",
        "    train_accuracies.append(accuracy)  # Append the training accuracy to the list\n",
        "\n",
        "    # Print test results for the current epoch\n",
        "    print(f\"\\nTrain Error: \\n Accuracy: {accuracy:>0.1f}%, Avg loss: {avg_loss:>8f} \\n\")"
      ],
      "metadata": {
        "id": "s-vioppXtTrz"
      },
      "execution_count": 37,
      "outputs": []
    },
    {
      "cell_type": "markdown",
      "source": [
        "### 6.2. Defining the Testing Function"
      ],
      "metadata": {
        "id": "LizGRx2UBMjl"
      }
    },
    {
      "cell_type": "code",
      "source": [
        "# Define the testing function\n",
        "def test(dataloader, model, loss_fn):\n",
        "    size = len(dataloader.dataset)  # Total number of samples in the test dataset\n",
        "    num_batches = len(dataloader)  # Total number of batches in the test dataloader\n",
        "    model.eval()  # Set the model to evaluation mode\n",
        "\n",
        "    test_loss, correct = 0, 0  # Initialize accumulators for loss and correct predictions\n",
        "\n",
        "    with torch.no_grad():  # Disable gradient computation for evaluation\n",
        "        # Iterate over batches in the test dataloader\n",
        "        for X, y in dataloader:\n",
        "            X, y = X.to(device), y.to(device)  # Move data and labels to the specified device\n",
        "            pred = model(X)  # Forward pass to compute predictions\n",
        "            test_loss += loss_fn(pred, y).item()  # Accumulate batch loss\n",
        "            correct += (pred.argmax(1) == y).type(torch.float).sum().item()  # Count correct predictions\n",
        "\n",
        "    # Calculate average loss and accuracy for the test dataset\n",
        "    avg_loss = test_loss / num_batches  # Average loss over all test batches\n",
        "    accuracy = 100 * correct / size  # Accuracy as a percentage\n",
        "    test_losses.append(avg_loss)  # Append the average test loss to the list\n",
        "    test_accuracies.append(accuracy)  # Append the test accuracy to the list\n",
        "\n",
        "    # Print test results for the current epoch\n",
        "    print(f\"Test Error: \\n Accuracy: {accuracy:>0.1f}%, Avg loss: {avg_loss:>8f} \\n\")"
      ],
      "metadata": {
        "id": "iGUtve2SuNmH"
      },
      "execution_count": 38,
      "outputs": []
    },
    {
      "cell_type": "markdown",
      "source": [
        "### 6.3. Training Loop and Model Evaluation"
      ],
      "metadata": {
        "id": "cKDaBqm2BUfr"
      }
    },
    {
      "cell_type": "code",
      "source": [
        "# Training loop\n",
        "epochs = 30  # Number of epochs to train the model\n",
        "for t in range(epochs):\n",
        "    print(f\"Epoch {t+1}\\n-------------------------------\")\n",
        "    train(train_dataloader, model, loss_fn, optimizer)  # Train the model on the training dataset\n",
        "    test(test_dataloader, model, loss_fn)  # Evaluate the model on the test dataset\n",
        "\n",
        "print(\"Done!\")  # Print when training is complete"
      ],
      "metadata": {
        "colab": {
          "base_uri": "https://localhost:8080/"
        },
        "id": "fVytxnJ1uftc",
        "outputId": "4270fbfc-0be1-46b6-9798-e52aba2a8447"
      },
      "execution_count": 39,
      "outputs": [
        {
          "output_type": "stream",
          "name": "stdout",
          "text": [
            "Epoch 1\n",
            "-------------------------------\n",
            "loss: 2.366012  [   64/60000]\n",
            "loss: 1.773505  [ 6464/60000]\n",
            "loss: 1.310069  [12864/60000]\n",
            "loss: 1.325865  [19264/60000]\n",
            "loss: 1.143020  [25664/60000]\n",
            "loss: 1.008268  [32064/60000]\n",
            "loss: 1.016052  [38464/60000]\n",
            "loss: 0.909450  [44864/60000]\n",
            "loss: 0.890252  [51264/60000]\n",
            "loss: 0.976396  [57664/60000]\n",
            "\n",
            "Train Error: \n",
            " Accuracy: 65.9%, Avg loss: 1.189372 \n",
            "\n",
            "Test Error: \n",
            " Accuracy: 75.3%, Avg loss: 0.805718 \n",
            "\n",
            "Epoch 2\n",
            "-------------------------------\n",
            "loss: 0.809745  [   64/60000]\n",
            "loss: 0.869895  [ 6464/60000]\n",
            "loss: 0.645622  [12864/60000]\n",
            "loss: 0.875774  [19264/60000]\n",
            "loss: 0.816872  [25664/60000]\n",
            "loss: 0.744427  [32064/60000]\n",
            "loss: 0.785111  [38464/60000]\n",
            "loss: 0.726441  [44864/60000]\n",
            "loss: 0.779581  [51264/60000]\n",
            "loss: 0.763779  [57664/60000]\n",
            "\n",
            "Train Error: \n",
            " Accuracy: 76.6%, Avg loss: 0.751313 \n",
            "\n",
            "Test Error: \n",
            " Accuracy: 78.3%, Avg loss: 0.646457 \n",
            "\n",
            "Epoch 3\n",
            "-------------------------------\n",
            "loss: 0.654360  [   64/60000]\n",
            "loss: 0.731994  [ 6464/60000]\n",
            "loss: 0.482328  [12864/60000]\n",
            "loss: 0.810840  [19264/60000]\n",
            "loss: 0.689814  [25664/60000]\n",
            "loss: 0.631680  [32064/60000]\n",
            "loss: 0.705034  [38464/60000]\n",
            "loss: 0.690139  [44864/60000]\n",
            "loss: 0.684771  [51264/60000]\n",
            "loss: 0.688778  [57664/60000]\n",
            "\n",
            "Train Error: \n",
            " Accuracy: 79.1%, Avg loss: 0.639398 \n",
            "\n",
            "Test Error: \n",
            " Accuracy: 80.2%, Avg loss: 0.574042 \n",
            "\n",
            "Epoch 4\n",
            "-------------------------------\n",
            "loss: 0.551414  [   64/60000]\n",
            "loss: 0.639585  [ 6464/60000]\n",
            "loss: 0.410147  [12864/60000]\n",
            "loss: 0.677455  [19264/60000]\n",
            "loss: 0.609293  [25664/60000]\n",
            "loss: 0.591979  [32064/60000]\n",
            "loss: 0.591652  [38464/60000]\n",
            "loss: 0.630832  [44864/60000]\n",
            "loss: 0.657581  [51264/60000]\n",
            "loss: 0.645752  [57664/60000]\n",
            "\n",
            "Train Error: \n",
            " Accuracy: 80.6%, Avg loss: 0.578964 \n",
            "\n",
            "Test Error: \n",
            " Accuracy: 81.2%, Avg loss: 0.529358 \n",
            "\n",
            "Epoch 5\n",
            "-------------------------------\n",
            "loss: 0.468647  [   64/60000]\n",
            "loss: 0.557524  [ 6464/60000]\n",
            "loss: 0.407373  [12864/60000]\n",
            "loss: 0.643941  [19264/60000]\n",
            "loss: 0.574664  [25664/60000]\n",
            "loss: 0.523050  [32064/60000]\n",
            "loss: 0.558596  [38464/60000]\n",
            "loss: 0.659973  [44864/60000]\n",
            "loss: 0.617167  [51264/60000]\n",
            "loss: 0.591516  [57664/60000]\n",
            "\n",
            "Train Error: \n",
            " Accuracy: 81.7%, Avg loss: 0.539723 \n",
            "\n",
            "Test Error: \n",
            " Accuracy: 82.3%, Avg loss: 0.500521 \n",
            "\n",
            "Epoch 6\n",
            "-------------------------------\n",
            "loss: 0.481153  [   64/60000]\n",
            "loss: 0.548502  [ 6464/60000]\n",
            "loss: 0.332814  [12864/60000]\n",
            "loss: 0.625351  [19264/60000]\n",
            "loss: 0.565115  [25664/60000]\n",
            "loss: 0.476202  [32064/60000]\n",
            "loss: 0.513735  [38464/60000]\n",
            "loss: 0.631448  [44864/60000]\n",
            "loss: 0.585787  [51264/60000]\n",
            "loss: 0.568762  [57664/60000]\n",
            "\n",
            "Train Error: \n",
            " Accuracy: 82.5%, Avg loss: 0.511629 \n",
            "\n",
            "Test Error: \n",
            " Accuracy: 82.9%, Avg loss: 0.480125 \n",
            "\n",
            "Epoch 7\n",
            "-------------------------------\n",
            "loss: 0.433908  [   64/60000]\n",
            "loss: 0.484245  [ 6464/60000]\n",
            "loss: 0.328776  [12864/60000]\n",
            "loss: 0.621697  [19264/60000]\n",
            "loss: 0.511045  [25664/60000]\n",
            "loss: 0.524069  [32064/60000]\n",
            "loss: 0.525366  [38464/60000]\n",
            "loss: 0.664807  [44864/60000]\n",
            "loss: 0.615417  [51264/60000]\n",
            "loss: 0.516968  [57664/60000]\n",
            "\n",
            "Train Error: \n",
            " Accuracy: 83.0%, Avg loss: 0.490052 \n",
            "\n",
            "Test Error: \n",
            " Accuracy: 83.5%, Avg loss: 0.463510 \n",
            "\n",
            "Epoch 8\n",
            "-------------------------------\n",
            "loss: 0.406859  [   64/60000]\n",
            "loss: 0.462703  [ 6464/60000]\n",
            "loss: 0.305738  [12864/60000]\n",
            "loss: 0.563496  [19264/60000]\n",
            "loss: 0.489288  [25664/60000]\n",
            "loss: 0.469181  [32064/60000]\n",
            "loss: 0.439837  [38464/60000]\n",
            "loss: 0.585526  [44864/60000]\n",
            "loss: 0.610670  [51264/60000]\n",
            "loss: 0.471896  [57664/60000]\n",
            "\n",
            "Train Error: \n",
            " Accuracy: 83.6%, Avg loss: 0.473069 \n",
            "\n",
            "Test Error: \n",
            " Accuracy: 84.0%, Avg loss: 0.450510 \n",
            "\n",
            "Epoch 9\n",
            "-------------------------------\n",
            "loss: 0.381111  [   64/60000]\n",
            "loss: 0.448837  [ 6464/60000]\n",
            "loss: 0.310840  [12864/60000]\n",
            "loss: 0.567142  [19264/60000]\n",
            "loss: 0.488356  [25664/60000]\n",
            "loss: 0.494333  [32064/60000]\n",
            "loss: 0.445204  [38464/60000]\n",
            "loss: 0.579765  [44864/60000]\n",
            "loss: 0.529523  [51264/60000]\n",
            "loss: 0.522933  [57664/60000]\n",
            "\n",
            "Train Error: \n",
            " Accuracy: 84.0%, Avg loss: 0.459055 \n",
            "\n",
            "Test Error: \n",
            " Accuracy: 84.3%, Avg loss: 0.439600 \n",
            "\n",
            "Epoch 10\n",
            "-------------------------------\n",
            "loss: 0.370573  [   64/60000]\n",
            "loss: 0.465722  [ 6464/60000]\n",
            "loss: 0.308495  [12864/60000]\n",
            "loss: 0.537569  [19264/60000]\n",
            "loss: 0.450460  [25664/60000]\n",
            "loss: 0.462320  [32064/60000]\n",
            "loss: 0.524073  [38464/60000]\n",
            "loss: 0.517298  [44864/60000]\n",
            "loss: 0.615798  [51264/60000]\n",
            "loss: 0.472865  [57664/60000]\n",
            "\n",
            "Train Error: \n",
            " Accuracy: 84.3%, Avg loss: 0.447951 \n",
            "\n",
            "Test Error: \n",
            " Accuracy: 84.6%, Avg loss: 0.430537 \n",
            "\n",
            "Epoch 11\n",
            "-------------------------------\n",
            "loss: 0.383305  [   64/60000]\n",
            "loss: 0.414181  [ 6464/60000]\n",
            "loss: 0.276691  [12864/60000]\n",
            "loss: 0.466472  [19264/60000]\n",
            "loss: 0.496373  [25664/60000]\n",
            "loss: 0.446592  [32064/60000]\n",
            "loss: 0.412970  [38464/60000]\n",
            "loss: 0.524238  [44864/60000]\n",
            "loss: 0.504317  [51264/60000]\n",
            "loss: 0.449832  [57664/60000]\n",
            "\n",
            "Train Error: \n",
            " Accuracy: 84.7%, Avg loss: 0.436998 \n",
            "\n",
            "Test Error: \n",
            " Accuracy: 84.8%, Avg loss: 0.422690 \n",
            "\n",
            "Epoch 12\n",
            "-------------------------------\n",
            "loss: 0.306194  [   64/60000]\n",
            "loss: 0.395830  [ 6464/60000]\n",
            "loss: 0.285476  [12864/60000]\n",
            "loss: 0.510155  [19264/60000]\n",
            "loss: 0.430657  [25664/60000]\n",
            "loss: 0.409157  [32064/60000]\n",
            "loss: 0.438643  [38464/60000]\n",
            "loss: 0.589523  [44864/60000]\n",
            "loss: 0.487922  [51264/60000]\n",
            "loss: 0.459525  [57664/60000]\n",
            "\n",
            "Train Error: \n",
            " Accuracy: 85.1%, Avg loss: 0.427428 \n",
            "\n",
            "Test Error: \n",
            " Accuracy: 85.0%, Avg loss: 0.415954 \n",
            "\n",
            "Epoch 13\n",
            "-------------------------------\n",
            "loss: 0.366487  [   64/60000]\n",
            "loss: 0.478673  [ 6464/60000]\n",
            "loss: 0.273362  [12864/60000]\n",
            "loss: 0.480824  [19264/60000]\n",
            "loss: 0.448394  [25664/60000]\n",
            "loss: 0.438379  [32064/60000]\n",
            "loss: 0.396563  [38464/60000]\n",
            "loss: 0.525764  [44864/60000]\n",
            "loss: 0.536995  [51264/60000]\n",
            "loss: 0.504978  [57664/60000]\n",
            "\n",
            "Train Error: \n",
            " Accuracy: 85.4%, Avg loss: 0.418684 \n",
            "\n",
            "Test Error: \n",
            " Accuracy: 85.2%, Avg loss: 0.409694 \n",
            "\n",
            "Epoch 14\n",
            "-------------------------------\n",
            "loss: 0.325430  [   64/60000]\n",
            "loss: 0.447324  [ 6464/60000]\n",
            "loss: 0.242799  [12864/60000]\n",
            "loss: 0.491667  [19264/60000]\n",
            "loss: 0.429593  [25664/60000]\n",
            "loss: 0.492376  [32064/60000]\n",
            "loss: 0.375973  [38464/60000]\n",
            "loss: 0.525478  [44864/60000]\n",
            "loss: 0.482199  [51264/60000]\n",
            "loss: 0.456322  [57664/60000]\n",
            "\n",
            "Train Error: \n",
            " Accuracy: 85.7%, Avg loss: 0.411064 \n",
            "\n",
            "Test Error: \n",
            " Accuracy: 85.4%, Avg loss: 0.404873 \n",
            "\n",
            "Epoch 15\n",
            "-------------------------------\n",
            "loss: 0.296264  [   64/60000]\n",
            "loss: 0.432811  [ 6464/60000]\n",
            "loss: 0.221294  [12864/60000]\n",
            "loss: 0.467587  [19264/60000]\n",
            "loss: 0.383115  [25664/60000]\n",
            "loss: 0.386461  [32064/60000]\n",
            "loss: 0.334030  [38464/60000]\n",
            "loss: 0.458348  [44864/60000]\n",
            "loss: 0.483687  [51264/60000]\n",
            "loss: 0.456598  [57664/60000]\n",
            "\n",
            "Train Error: \n",
            " Accuracy: 85.9%, Avg loss: 0.402449 \n",
            "\n",
            "Test Error: \n",
            " Accuracy: 85.7%, Avg loss: 0.399540 \n",
            "\n",
            "Epoch 16\n",
            "-------------------------------\n",
            "loss: 0.346346  [   64/60000]\n",
            "loss: 0.410388  [ 6464/60000]\n",
            "loss: 0.223584  [12864/60000]\n",
            "loss: 0.469039  [19264/60000]\n",
            "loss: 0.377373  [25664/60000]\n",
            "loss: 0.397847  [32064/60000]\n",
            "loss: 0.321524  [38464/60000]\n",
            "loss: 0.519354  [44864/60000]\n",
            "loss: 0.459337  [51264/60000]\n",
            "loss: 0.440851  [57664/60000]\n",
            "\n",
            "Train Error: \n",
            " Accuracy: 86.0%, Avg loss: 0.398154 \n",
            "\n",
            "Test Error: \n",
            " Accuracy: 85.9%, Avg loss: 0.394230 \n",
            "\n",
            "Epoch 17\n",
            "-------------------------------\n",
            "loss: 0.308940  [   64/60000]\n",
            "loss: 0.411273  [ 6464/60000]\n",
            "loss: 0.271404  [12864/60000]\n",
            "loss: 0.395926  [19264/60000]\n",
            "loss: 0.411663  [25664/60000]\n",
            "loss: 0.403045  [32064/60000]\n",
            "loss: 0.405035  [38464/60000]\n",
            "loss: 0.494938  [44864/60000]\n",
            "loss: 0.440718  [51264/60000]\n",
            "loss: 0.437633  [57664/60000]\n",
            "\n",
            "Train Error: \n",
            " Accuracy: 86.2%, Avg loss: 0.392660 \n",
            "\n",
            "Test Error: \n",
            " Accuracy: 85.9%, Avg loss: 0.390255 \n",
            "\n",
            "Epoch 18\n",
            "-------------------------------\n",
            "loss: 0.344493  [   64/60000]\n",
            "loss: 0.384617  [ 6464/60000]\n",
            "loss: 0.247806  [12864/60000]\n",
            "loss: 0.417374  [19264/60000]\n",
            "loss: 0.399090  [25664/60000]\n",
            "loss: 0.402059  [32064/60000]\n",
            "loss: 0.362425  [38464/60000]\n",
            "loss: 0.478992  [44864/60000]\n",
            "loss: 0.479750  [51264/60000]\n",
            "loss: 0.387231  [57664/60000]\n",
            "\n",
            "Train Error: \n",
            " Accuracy: 86.3%, Avg loss: 0.386150 \n",
            "\n",
            "Test Error: \n",
            " Accuracy: 86.1%, Avg loss: 0.386285 \n",
            "\n",
            "Epoch 19\n",
            "-------------------------------\n",
            "loss: 0.294467  [   64/60000]\n",
            "loss: 0.387210  [ 6464/60000]\n",
            "loss: 0.225748  [12864/60000]\n",
            "loss: 0.378320  [19264/60000]\n",
            "loss: 0.345423  [25664/60000]\n",
            "loss: 0.375001  [32064/60000]\n",
            "loss: 0.345871  [38464/60000]\n",
            "loss: 0.511462  [44864/60000]\n",
            "loss: 0.469716  [51264/60000]\n",
            "loss: 0.446434  [57664/60000]\n",
            "\n",
            "Train Error: \n",
            " Accuracy: 86.5%, Avg loss: 0.381614 \n",
            "\n",
            "Test Error: \n",
            " Accuracy: 86.3%, Avg loss: 0.382827 \n",
            "\n",
            "Epoch 20\n",
            "-------------------------------\n",
            "loss: 0.323832  [   64/60000]\n",
            "loss: 0.355680  [ 6464/60000]\n",
            "loss: 0.192826  [12864/60000]\n",
            "loss: 0.405898  [19264/60000]\n",
            "loss: 0.366544  [25664/60000]\n",
            "loss: 0.382031  [32064/60000]\n",
            "loss: 0.393075  [38464/60000]\n",
            "loss: 0.468002  [44864/60000]\n",
            "loss: 0.464908  [51264/60000]\n",
            "loss: 0.364533  [57664/60000]\n",
            "\n",
            "Train Error: \n",
            " Accuracy: 86.8%, Avg loss: 0.375665 \n",
            "\n",
            "Test Error: \n",
            " Accuracy: 86.4%, Avg loss: 0.379457 \n",
            "\n",
            "Epoch 21\n",
            "-------------------------------\n",
            "loss: 0.299278  [   64/60000]\n",
            "loss: 0.419746  [ 6464/60000]\n",
            "loss: 0.217476  [12864/60000]\n",
            "loss: 0.436695  [19264/60000]\n",
            "loss: 0.402806  [25664/60000]\n",
            "loss: 0.421682  [32064/60000]\n",
            "loss: 0.349563  [38464/60000]\n",
            "loss: 0.458458  [44864/60000]\n",
            "loss: 0.393166  [51264/60000]\n",
            "loss: 0.423405  [57664/60000]\n",
            "\n",
            "Train Error: \n",
            " Accuracy: 86.9%, Avg loss: 0.372294 \n",
            "\n",
            "Test Error: \n",
            " Accuracy: 86.5%, Avg loss: 0.376372 \n",
            "\n",
            "Epoch 22\n",
            "-------------------------------\n",
            "loss: 0.293985  [   64/60000]\n",
            "loss: 0.324912  [ 6464/60000]\n",
            "loss: 0.193032  [12864/60000]\n",
            "loss: 0.402421  [19264/60000]\n",
            "loss: 0.427422  [25664/60000]\n",
            "loss: 0.375400  [32064/60000]\n",
            "loss: 0.354553  [38464/60000]\n",
            "loss: 0.481976  [44864/60000]\n",
            "loss: 0.450107  [51264/60000]\n",
            "loss: 0.422554  [57664/60000]\n",
            "\n",
            "Train Error: \n",
            " Accuracy: 87.1%, Avg loss: 0.367850 \n",
            "\n",
            "Test Error: \n",
            " Accuracy: 86.6%, Avg loss: 0.373437 \n",
            "\n",
            "Epoch 23\n",
            "-------------------------------\n",
            "loss: 0.259592  [   64/60000]\n",
            "loss: 0.363161  [ 6464/60000]\n",
            "loss: 0.222746  [12864/60000]\n",
            "loss: 0.443797  [19264/60000]\n",
            "loss: 0.402528  [25664/60000]\n",
            "loss: 0.389539  [32064/60000]\n",
            "loss: 0.379609  [38464/60000]\n",
            "loss: 0.430170  [44864/60000]\n",
            "loss: 0.389746  [51264/60000]\n",
            "loss: 0.423349  [57664/60000]\n",
            "\n",
            "Train Error: \n",
            " Accuracy: 87.2%, Avg loss: 0.363154 \n",
            "\n",
            "Test Error: \n",
            " Accuracy: 86.7%, Avg loss: 0.370637 \n",
            "\n",
            "Epoch 24\n",
            "-------------------------------\n",
            "loss: 0.285989  [   64/60000]\n",
            "loss: 0.400982  [ 6464/60000]\n",
            "loss: 0.250804  [12864/60000]\n",
            "loss: 0.384229  [19264/60000]\n",
            "loss: 0.342843  [25664/60000]\n",
            "loss: 0.388799  [32064/60000]\n",
            "loss: 0.321081  [38464/60000]\n",
            "loss: 0.459466  [44864/60000]\n",
            "loss: 0.452733  [51264/60000]\n",
            "loss: 0.401205  [57664/60000]\n",
            "\n",
            "Train Error: \n",
            " Accuracy: 87.2%, Avg loss: 0.359462 \n",
            "\n",
            "Test Error: \n",
            " Accuracy: 86.8%, Avg loss: 0.368246 \n",
            "\n",
            "Epoch 25\n",
            "-------------------------------\n",
            "loss: 0.295035  [   64/60000]\n",
            "loss: 0.341727  [ 6464/60000]\n",
            "loss: 0.219749  [12864/60000]\n",
            "loss: 0.399800  [19264/60000]\n",
            "loss: 0.375307  [25664/60000]\n",
            "loss: 0.342675  [32064/60000]\n",
            "loss: 0.320005  [38464/60000]\n",
            "loss: 0.431928  [44864/60000]\n",
            "loss: 0.407188  [51264/60000]\n",
            "loss: 0.391948  [57664/60000]\n",
            "\n",
            "Train Error: \n",
            " Accuracy: 87.3%, Avg loss: 0.357417 \n",
            "\n",
            "Test Error: \n",
            " Accuracy: 86.8%, Avg loss: 0.366238 \n",
            "\n",
            "Epoch 26\n",
            "-------------------------------\n",
            "loss: 0.304147  [   64/60000]\n",
            "loss: 0.353726  [ 6464/60000]\n",
            "loss: 0.229307  [12864/60000]\n",
            "loss: 0.381574  [19264/60000]\n",
            "loss: 0.291547  [25664/60000]\n",
            "loss: 0.389556  [32064/60000]\n",
            "loss: 0.357927  [38464/60000]\n",
            "loss: 0.493104  [44864/60000]\n",
            "loss: 0.423147  [51264/60000]\n",
            "loss: 0.379098  [57664/60000]\n",
            "\n",
            "Train Error: \n",
            " Accuracy: 87.5%, Avg loss: 0.351354 \n",
            "\n",
            "Test Error: \n",
            " Accuracy: 87.0%, Avg loss: 0.363616 \n",
            "\n",
            "Epoch 27\n",
            "-------------------------------\n",
            "loss: 0.298294  [   64/60000]\n",
            "loss: 0.302136  [ 6464/60000]\n",
            "loss: 0.221447  [12864/60000]\n",
            "loss: 0.386016  [19264/60000]\n",
            "loss: 0.329224  [25664/60000]\n",
            "loss: 0.343276  [32064/60000]\n",
            "loss: 0.313750  [38464/60000]\n",
            "loss: 0.384058  [44864/60000]\n",
            "loss: 0.384913  [51264/60000]\n",
            "loss: 0.436889  [57664/60000]\n",
            "\n",
            "Train Error: \n",
            " Accuracy: 87.6%, Avg loss: 0.347959 \n",
            "\n",
            "Test Error: \n",
            " Accuracy: 87.1%, Avg loss: 0.361019 \n",
            "\n",
            "Epoch 28\n",
            "-------------------------------\n",
            "loss: 0.271674  [   64/60000]\n",
            "loss: 0.326862  [ 6464/60000]\n",
            "loss: 0.216167  [12864/60000]\n",
            "loss: 0.355044  [19264/60000]\n",
            "loss: 0.309315  [25664/60000]\n",
            "loss: 0.357388  [32064/60000]\n",
            "loss: 0.357464  [38464/60000]\n",
            "loss: 0.429613  [44864/60000]\n",
            "loss: 0.472270  [51264/60000]\n",
            "loss: 0.368911  [57664/60000]\n",
            "\n",
            "Train Error: \n",
            " Accuracy: 87.7%, Avg loss: 0.345612 \n",
            "\n",
            "Test Error: \n",
            " Accuracy: 87.2%, Avg loss: 0.359323 \n",
            "\n",
            "Epoch 29\n",
            "-------------------------------\n",
            "loss: 0.226000  [   64/60000]\n",
            "loss: 0.328706  [ 6464/60000]\n",
            "loss: 0.181024  [12864/60000]\n",
            "loss: 0.380271  [19264/60000]\n",
            "loss: 0.362008  [25664/60000]\n",
            "loss: 0.334751  [32064/60000]\n",
            "loss: 0.363872  [38464/60000]\n",
            "loss: 0.424082  [44864/60000]\n",
            "loss: 0.432004  [51264/60000]\n",
            "loss: 0.380983  [57664/60000]\n",
            "\n",
            "Train Error: \n",
            " Accuracy: 87.9%, Avg loss: 0.341815 \n",
            "\n",
            "Test Error: \n",
            " Accuracy: 87.3%, Avg loss: 0.357324 \n",
            "\n",
            "Epoch 30\n",
            "-------------------------------\n",
            "loss: 0.215425  [   64/60000]\n",
            "loss: 0.287717  [ 6464/60000]\n",
            "loss: 0.171432  [12864/60000]\n",
            "loss: 0.434830  [19264/60000]\n",
            "loss: 0.316936  [25664/60000]\n",
            "loss: 0.301671  [32064/60000]\n",
            "loss: 0.323312  [38464/60000]\n",
            "loss: 0.423260  [44864/60000]\n",
            "loss: 0.325787  [51264/60000]\n",
            "loss: 0.326897  [57664/60000]\n",
            "\n",
            "Train Error: \n",
            " Accuracy: 88.1%, Avg loss: 0.339227 \n",
            "\n",
            "Test Error: \n",
            " Accuracy: 87.2%, Avg loss: 0.355384 \n",
            "\n",
            "Done!\n"
          ]
        }
      ]
    },
    {
      "cell_type": "markdown",
      "source": [
        "### 6.4. Visualizing Training and Test Performance"
      ],
      "metadata": {
        "id": "4G9wdb1NBdqg"
      }
    },
    {
      "cell_type": "code",
      "source": [
        "import matplotlib.pyplot as plt\n",
        "\n",
        "# Define the number of epochs\n",
        "epochs_range = range(1, len(train_accuracies) + 1)\n",
        "\n",
        "# Create a figure for the plots\n",
        "plt.figure(figsize=(12, 6))\n",
        "\n",
        "# Plot Training and Test Accuracy\n",
        "plt.subplot(1, 2, 1)\n",
        "plt.plot(epochs_range, train_accuracies, label=\"Training Accuracy\")\n",
        "plt.plot(epochs_range, test_accuracies, label=\"Test Accuracy\")\n",
        "plt.title(\"Accuracy over Epochs\")\n",
        "plt.xlabel(\"Epochs\")\n",
        "plt.ylabel(\"Accuracy (%)\")\n",
        "plt.legend()\n",
        "plt.grid(True)\n",
        "\n",
        "# Plot Training and Test Loss\n",
        "plt.subplot(1, 2, 2)\n",
        "plt.plot(epochs_range, train_losses, label=\"Training Loss\")\n",
        "plt.plot(epochs_range, test_losses, label=\"Test Loss\")\n",
        "plt.title(\"Loss over Epochs\")\n",
        "plt.xlabel(\"Epochs\")\n",
        "plt.ylabel(\"Loss\")\n",
        "plt.legend()\n",
        "plt.grid(True)\n",
        "\n",
        "# Adjust layout and display the plots\n",
        "plt.tight_layout()\n",
        "plt.show()"
      ],
      "metadata": {
        "id": "RGlzmcpQ6PHU",
        "colab": {
          "base_uri": "https://localhost:8080/",
          "height": 591
        },
        "outputId": "a2bd9e53-3e07-4745-fb57-1174d77e158d"
      },
      "execution_count": 40,
      "outputs": [
        {
          "output_type": "display_data",
          "data": {
            "text/plain": [
              "<Figure size 1200x600 with 2 Axes>"
            ],
            "image/png": "[encoded data removed]"
          },
          "metadata": {}
        }
      ]
    },
    {
      "cell_type": "markdown",
      "source": [
        "## 7. Model Saving and Loading"
      ],
      "metadata": {
        "id": "itrctwzmBrtB"
      }
    },
    {
      "cell_type": "markdown",
      "source": [
        "### 7.1. Model Saving"
      ],
      "metadata": {
        "id": "bNs69geBBvvC"
      }
    },
    {
      "cell_type": "code",
      "source": [
        "torch.save(model.state_dict(), \"model2.pth\")\n",
        "print(\"Saved PyTorch Model State to model.pth\")"
      ],
      "metadata": {
        "id": "ZGFHTwVgwLW6",
        "colab": {
          "base_uri": "https://localhost:8080/"
        },
        "outputId": "265458b1-1012-49b5-c476-3fee9a1ee485"
      },
      "execution_count": 44,
      "outputs": [
        {
          "output_type": "stream",
          "name": "stdout",
          "text": [
            "Saved PyTorch Model State to model.pth\n"
          ]
        }
      ]
    },
    {
      "cell_type": "markdown",
      "source": [
        "### 7.2. Model Saving Loading"
      ],
      "metadata": {
        "id": "Le01wPxWByJi"
      }
    },
    {
      "cell_type": "code",
      "source": [
        "class NeuralNetwork(nn.Module):\n",
        "    def __init__(self):\n",
        "        super().__init__()\n",
        "\n",
        "        # Layer to flatten input images from (28, 28) to (28*28)\n",
        "        self.flatten = nn.Flatten()\n",
        "\n",
        "        # Sequential model consisting of Linear layers followed by Batch Normalization, Dropout, and ReLU activations\n",
        "        self.linear_relu_stack = nn.Sequential(\n",
        "            nn.Linear(28*28, 512, bias=True),  # Fully connected layer: input size (28*28), output size 512\n",
        "            nn.BatchNorm1d(512),               # Batch Normalization\n",
        "            nn.ReLU(),                         # Activation function: ReLU\n",
        "            nn.Dropout(0.2),                   # Dropout with 20% probability\n",
        "            nn.Linear(512, 256, bias=True),    # Fully connected layer: input size 512, output size 256\n",
        "            nn.BatchNorm1d(256),               # Batch Normalization\n",
        "            nn.ReLU(),                         # Activation function: ReLU\n",
        "            nn.Dropout(0.2),                   # Dropout with 20% probability\n",
        "            nn.Linear(256, 10, bias=True)      # Fully connected layer: input size 256, output size 10 (class scores)\n",
        "        )\n",
        "\n",
        "    def forward(self, x):\n",
        "        # Forward pass through the network\n",
        "        x = self.flatten(x)                   # Flatten the input\n",
        "        logits = self.linear_relu_stack(x)    # Pass through the linear, BatchNorm, ReLU, and Dropout layers\n",
        "        return logits                         # Return the raw scores (logits) for each class\n",
        "\n",
        "# Instantiate the model and move it to the specified device (e.g., CPU or GPU)\n",
        "model = NeuralNetwork().to(device)\n",
        "\n",
        "# Print the model's architecture\n",
        "print(model)\n",
        "\n",
        "model.load_state_dict(torch.load(\"model2.pth\", weights_only=True))"
      ],
      "metadata": {
        "id": "jv0VhX4jwL19",
        "colab": {
          "base_uri": "https://localhost:8080/"
        },
        "outputId": "db6d03c2-37a4-4119-c356-1073aca5eb5c"
      },
      "execution_count": 45,
      "outputs": [
        {
          "output_type": "stream",
          "name": "stdout",
          "text": [
            "NeuralNetwork(\n",
            "  (flatten): Flatten(start_dim=1, end_dim=-1)\n",
            "  (linear_relu_stack): Sequential(\n",
            "    (0): Linear(in_features=784, out_features=512, bias=True)\n",
            "    (1): BatchNorm1d(512, eps=1e-05, momentum=0.1, affine=True, track_running_stats=True)\n",
            "    (2): ReLU()\n",
            "    (3): Dropout(p=0.2, inplace=False)\n",
            "    (4): Linear(in_features=512, out_features=256, bias=True)\n",
            "    (5): BatchNorm1d(256, eps=1e-05, momentum=0.1, affine=True, track_running_stats=True)\n",
            "    (6): ReLU()\n",
            "    (7): Dropout(p=0.2, inplace=False)\n",
            "    (8): Linear(in_features=256, out_features=10, bias=True)\n",
            "  )\n",
            ")\n"
          ]
        },
        {
          "output_type": "execute_result",
          "data": {
            "text/plain": [
              "<All keys matched successfully>"
            ]
          },
          "metadata": {},
          "execution_count": 45
        }
      ]
    },
    {
      "cell_type": "code",
      "source": [
        "import matplotlib.pyplot as plt\n",
        "classes = [\n",
        "    \"T-shirt/top\",\n",
        "    \"Trouser\",\n",
        "    \"Pullover\",\n",
        "    \"Dress\",\n",
        "    \"Coat\",\n",
        "    \"Sandal\",\n",
        "    \"Shirt\",\n",
        "    \"Sneaker\",\n",
        "    \"Bag\",\n",
        "    \"Ankle boot\",\n",
        "]\n",
        "\n",
        "model.eval()\n",
        "x, y = test_data[0][0], test_data[0][1]\n",
        "with torch.no_grad():\n",
        "    print(x.shape)\n",
        "    plt.imshow(x.squeeze())\n",
        "    x = x.to(device)\n",
        "    pred = model(x)\n",
        "    predicted, actual = classes[pred[0].argmax(0)], classes[y]\n",
        "    print(f'Predicted: \"{predicted}\", Actual: \"{actual}\"')"
      ],
      "metadata": {
        "id": "Xrsw5YU7wNxa",
        "colab": {
          "base_uri": "https://localhost:8080/",
          "height": 465
        },
        "outputId": "d7c66474-46f4-40fe-9b0b-ef10e90eecab"
      },
      "execution_count": 46,
      "outputs": [
        {
          "output_type": "stream",
          "name": "stdout",
          "text": [
            "torch.Size([1, 28, 28])\n",
            "Predicted: \"Ankle boot\", Actual: \"Ankle boot\"\n"
          ]
        },
        {
          "output_type": "display_data",
          "data": {
            "text/plain": [
              "<Figure size 640x480 with 1 Axes>"
            ],
            "image/png": "[encoded data removed]"
          },
          "metadata": {}
        }
      ]
    }
  ]
}